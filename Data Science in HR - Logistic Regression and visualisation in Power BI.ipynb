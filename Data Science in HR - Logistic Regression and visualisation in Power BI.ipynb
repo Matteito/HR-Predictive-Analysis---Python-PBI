{
 "cells": [
  {
   "cell_type": "markdown",
   "metadata": {},
   "source": [
    "# Full code below to apply logistic regression to a dataset of HR data\n",
    "## Turnover analysis"
   ]
  },
  {
   "cell_type": "markdown",
   "metadata": {},
   "source": [
    "#### The full code below needs to be inserted a step in the Power Query Editor. The idea is to generate different Pandas dataframes, each corresoponding to a step of the logistic regression (determining variables X and Y, accuracy of the model, confusion matrix, etc.)"
   ]
  },
  {
   "cell_type": "code",
   "execution_count": null,
   "metadata": {},
   "outputs": [],
   "source": [
    "# 'dataset' holds the input data for this script\n",
    "\n",
    "import pandas as pd\n",
    "import numpy as np\n",
    "\n",
    "from sklearn.preprocessing import LabelEncoder, StandardScaler\n",
    "from sklearn.model_selection import train_test_split\n",
    "from sklearn.linear_model import LogisticRegression\n",
    " \n",
    "# the dataset is split into 2 groups, X and y \n",
    "y = dataset['Situation Groupe']\n",
    "y = np.ravel(y)\n",
    "\n",
    "VariablesX = dataset.columns.values.tolist()\n",
    "VariablesX.remove('Situation Groupe')\n",
    "\n",
    "X = dataset[VariablesX]      \n",
    "X = pd.get_dummies(X, drop_first= True)\n",
    " \n",
    "    \n",
    "    \n",
    "# split data into train and test dataset\n",
    "X_train,X_test,y_train,y_test = train_test_split(X,y,test_size = 0.25, random_state = 0)\n",
    "\n",
    "sc = StandardScaler()\n",
    "X_train = sc.fit_transform(X_train)\n",
    "X_test = sc.transform(X_test)\n",
    "\n",
    "# weigth balancer 0-1 \n",
    "classifier = LogisticRegression(random_state=0,solver='newton-cg',class_weight='balanced')\n",
    "classifier.fit(X_train, y_train)\n",
    "y_pred_test = classifier.predict(X_test)\n",
    "y_prob_test = classifier.predict_proba(X_test)\n",
    " \n",
    "    \n",
    "    \n",
    "# Creation of pandas dataframes (for tables in Power BI) to show all X variables\n",
    "TestResults = pd.DataFrame(y_test)\n",
    "TestResults ['y_pred'] = y_pred_test \n",
    "TestResults ['y_prob'] = y_prob_test[:,1] \n",
    " \n",
    "# Prediction of Y based on X\n",
    "y_pred = classifier.predict(X)\n",
    "y_prob = classifier.predict_proba(X)\n",
    "dataset2 = dataset[VariablesX]\n",
    " \n",
    "    \n",
    "    \n",
    "# All predictions and probabilities are listed in dataset2\n",
    "dataset2['predictions'] = y_pred\n",
    "dataset2['probabilité de départ'] = y_prob[:,1]\n",
    "dataset2.reset_index(inplace=True)\n",
    "\n",
    "\n",
    "\n",
    "# We show the final report in a Pandas dataframe\n",
    "from sklearn.metrics import classification_report\n",
    "y_pred = classifier.predict(X_test)\n",
    "\n",
    "ReportLGR = classification_report(y_test,y_pred,output_dict=True)\n",
    "df = pd.DataFrame(ReportLGR).transpose()\n",
    "df.reset_index(inplace=True)\n",
    "\n",
    "\n",
    "# Finally we create the confusion matrix in a Pandas dataframe\n",
    "from sklearn.metrics import confusion_matrix\n",
    "cm = confusion_matrix(y_test, y_pred)\n",
    "ConfusionMaxtrix=pd.DataFrame(cm)\n",
    "ConfusionMaxtrix.reset_index(inplace=True)"
   ]
  }
 ],
 "metadata": {
  "kernelspec": {
   "display_name": "Python 3",
   "language": "python",
   "name": "python3"
  },
  "language_info": {
   "codemirror_mode": {
    "name": "ipython",
    "version": 3
   },
   "file_extension": ".py",
   "mimetype": "text/x-python",
   "name": "python",
   "nbconvert_exporter": "python",
   "pygments_lexer": "ipython3",
   "version": "3.8.5"
  }
 },
 "nbformat": 4,
 "nbformat_minor": 4
}
